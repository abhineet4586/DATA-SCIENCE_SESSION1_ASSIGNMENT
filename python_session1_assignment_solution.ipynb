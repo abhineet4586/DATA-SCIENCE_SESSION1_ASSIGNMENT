{
 "cells": [
  {
   "cell_type": "markdown",
   "metadata": {},
   "source": [
    "# TASK-1"
   ]
  },
  {
   "cell_type": "markdown",
   "metadata": {},
   "source": [
    "1. Install Jupyter notebook and run the first Programand share screenshot of the output"
   ]
  },
  {
   "cell_type": "code",
   "execution_count": 1,
   "metadata": {},
   "outputs": [
    {
     "name": "stdout",
     "output_type": "stream",
     "text": [
      "value of x is 1 and value of y is 12\n"
     ]
    }
   ],
   "source": [
    "# defining 'x' and 'y' variable and printing them\n",
    "x = 1\n",
    "y =12\n",
    "#type(x)\n",
    "#print (x)\n",
    "print (\"value of x is\",x,\"and value of y is\",y)"
   ]
  },
  {
   "cell_type": "markdown",
   "metadata": {},
   "source": [
    "2. Write a program which will find all such numbers which are divisible by 7 but are not multiple of 5, between 2000 and 3200(both included).The number obtained should be printed in a comma seprated sequence on a single line."
   ]
  },
  {
   "cell_type": "code",
   "execution_count": 2,
   "metadata": {},
   "outputs": [
    {
     "name": "stdout",
     "output_type": "stream",
     "text": [
      "[2002, 2009, 2016, 2023, 2037, 2044, 2051, 2058, 2072, 2079, 2086, 2093, 2107, 2114, 2121, 2128, 2142, 2149, 2156, 2163, 2177, 2184, 2191, 2198, 2212, 2219, 2226, 2233, 2247, 2254, 2261, 2268, 2282, 2289, 2296, 2303, 2317, 2324, 2331, 2338, 2352, 2359, 2366, 2373, 2387, 2394, 2401, 2408, 2422, 2429, 2436, 2443, 2457, 2464, 2471, 2478, 2492, 2499, 2506, 2513, 2527, 2534, 2541, 2548, 2562, 2569, 2576, 2583, 2597, 2604, 2611, 2618, 2632, 2639, 2646, 2653, 2667, 2674, 2681, 2688, 2702, 2709, 2716, 2723, 2737, 2744, 2751, 2758, 2772, 2779, 2786, 2793, 2807, 2814, 2821, 2828, 2842, 2849, 2856, 2863, 2877, 2884, 2891, 2898, 2912, 2919, 2926, 2933, 2947, 2954, 2961, 2968, 2982, 2989, 2996, 3003, 3017, 3024, 3031, 3038, 3052, 3059, 3066, 3073, 3087, 3094, 3101, 3108, 3122, 3129, 3136, 3143, 3157, 3164, 3171, 3178, 3192, 3199]\n"
     ]
    }
   ],
   "source": [
    "#Starting and end number assigned to variable\n",
    "starting_num = 2000\n",
    "last_num = 3200\n",
    "# created empty list\n",
    "list_num = list()\n",
    "while (starting_num <= last_num ):\n",
    "    #Checking whether number divisible by 7 or not\n",
    "    if(starting_num % 7):\n",
    "        # Incrementation of starting number by 1\n",
    "        starting_num = starting_num + 1\n",
    "    else:\n",
    "        #Checking whether number divisible by 5 or not\n",
    "        if(starting_num % 5):\n",
    "            # Inserting number into list\n",
    "            list_num.append(starting_num)\n",
    "            starting_num = starting_num + 1\n",
    "        else:\n",
    "            starting_num = starting_num + 1\n",
    "print(list_num)"
   ]
  },
  {
   "cell_type": "markdown",
   "metadata": {},
   "source": [
    "3. Write a python program to accept the user's first and last name and getting them printed in the reverse order with space between first name and last name."
   ]
  },
  {
   "cell_type": "code",
   "execution_count": 3,
   "metadata": {},
   "outputs": [
    {
     "name": "stdout",
     "output_type": "stream",
     "text": [
      "Enter First Name:Abhineet\n",
      "Enter Last Name:Kumar\n"
     ]
    },
    {
     "data": {
      "text/plain": [
       "'teenihbA ramuK'"
      ]
     },
     "execution_count": 3,
     "metadata": {},
     "output_type": "execute_result"
    }
   ],
   "source": [
    "#Taking first name and last name as input from user\n",
    "First_Name = input(\"Enter First Name:\")\n",
    "Last_Name = input(\"Enter Last Name:\")\n",
    "# Print first name and last name in reverse order with space between them\n",
    "First_Name[::-1]+\" \"+(Last_Name[::-1])"
   ]
  },
  {
   "cell_type": "markdown",
   "metadata": {},
   "source": [
    "4. Write a python programto find the volume of a sphere with diameter 12cm."
   ]
  },
  {
   "cell_type": "code",
   "execution_count": 4,
   "metadata": {},
   "outputs": [
    {
     "name": "stdout",
     "output_type": "stream",
     "text": [
      "Volume of sphere: 150.79644737231007\n"
     ]
    }
   ],
   "source": [
    "#Importing math module as have to use math function\n",
    "import math\n",
    "#Diameter of sphere given\n",
    "Diameter = 12\n",
    "#calculation of Radius for sphere and assigning to variable \"radius\"\n",
    "radius = Diameter/2\n",
    "#calculating volume of sphere and assigning to variable \"volume\"\n",
    "volume = 4/3 * math.pi * radius * radius\n",
    "print (\"Volume of sphere:\",volume)"
   ]
  },
  {
   "cell_type": "markdown",
   "metadata": {},
   "source": [
    "#  TASK-2"
   ]
  },
  {
   "cell_type": "markdown",
   "metadata": {},
   "source": [
    "1. Write a Program Which accepts a sequence of comma-seprated numbers from console and generate a list."
   ]
  },
  {
   "cell_type": "code",
   "execution_count": 1,
   "metadata": {},
   "outputs": [
    {
     "name": "stdout",
     "output_type": "stream",
     "text": [
      "Enter sequence of comma seprated number:1,44,22,33,9,12\n"
     ]
    },
    {
     "data": {
      "text/plain": [
       "['1', '44', '22', '33', '9', '12']"
      ]
     },
     "execution_count": 1,
     "metadata": {},
     "output_type": "execute_result"
    }
   ],
   "source": [
    "# Accepting sequence of comma seprated number from console and assigning to variable \"sequence\"\n",
    "sequence = input(\"Enter sequence of comma seprated number:\")\n",
    "# spliting sequence on comma and by default it genarates list\n",
    "sequence.split(',')"
   ]
  },
  {
   "cell_type": "markdown",
   "metadata": {},
   "source": [
    "2. Create the below pattern using nested for loop in python\n",
    "    *\n",
    "    **\n",
    "    ***\n",
    "    ****\n",
    "    *****\n",
    "    ****\n",
    "    ***\n",
    "    **\n",
    "    *"
   ]
  },
  {
   "cell_type": "code",
   "execution_count": 2,
   "metadata": {},
   "outputs": [
    {
     "name": "stdout",
     "output_type": "stream",
     "text": [
      "*\n",
      "**\n",
      "***\n",
      "****\n",
      "*****\n",
      "****\n",
      "***\n",
      "**\n",
      "*\n"
     ]
    }
   ],
   "source": [
    "# variable definition of 'i' and 'n', where 'n' is one more than number of line to print\n",
    "i = 1\n",
    "n = 10\n",
    "# Iteration over range 'i' to 'n'\n",
    "for i in range(i,n):\n",
    "    j = 1\n",
    "    # Implemented nested 'for' loop iterating over range 'j' to 'i+1'\n",
    "    for j in range (j,i+1):\n",
    "        # Checking condition whether 'j' is less than 'n/2' and at same time 'j' should be equal to 'i'\n",
    "        if ((j <= n/2) & (j == i)):\n",
    "            print('*' * j)\n",
    "    # Checking condition whether 'j' greater than 'n/2' and at same time 'n-i' should not be zero      \n",
    "    if((j > n/2) & ((n-i)!= 0)):    \n",
    "        print('*' * (n-i))"
   ]
  },
  {
   "cell_type": "markdown",
   "metadata": {},
   "source": [
    "3. Write a python program to reverse a wordafter accepting the input from user."
   ]
  },
  {
   "cell_type": "code",
   "execution_count": 3,
   "metadata": {},
   "outputs": [
    {
     "name": "stdout",
     "output_type": "stream",
     "text": [
      "Enter the word:AcadGild\n"
     ]
    },
    {
     "data": {
      "text/plain": [
       "'dliGdacA'"
      ]
     },
     "execution_count": 3,
     "metadata": {},
     "output_type": "execute_result"
    }
   ],
   "source": [
    "# Accepting word from user and assigning to variable\n",
    "word = input(\"Enter the word:\")\n",
    "#Printing word or string in reverse order.\n",
    "word[::-1]"
   ]
  },
  {
   "cell_type": "markdown",
   "metadata": {},
   "source": [
    "4. Write a python program to print the given string in the format specified in the sample output."
   ]
  },
  {
   "cell_type": "code",
   "execution_count": 1,
   "metadata": {},
   "outputs": [
    {
     "name": "stdout",
     "output_type": "stream",
     "text": [
      "WE, THE PEOPLE OF INDIA,\n",
      "\thaving solemnly resolved to constitute India into a SOVEREIGN,!\n",
      "\t\tSOCIALIST, SECULAR, DEMOCRATIC REPUBLIC\t\n",
      "\t\t and to secure to all its citizens\n"
     ]
    }
   ],
   "source": [
    "# Input string in variable\n",
    "string = \"WE,THE PEOPLE OF INDIA, having solemnly resolved to constitute India into a SOVEREIGN, SOCIALIST, SECULAR, DEMOCRATIC REPUBLIC and to secure to all its citizens\"\n",
    "#Formatiing of string variable\n",
    "string = \"WE, THE PEOPLE OF INDIA,{}having solemnly resolved to constitute India into a SOVEREIGN,{}SOCIALIST, SECULAR, DEMOCRATIC REPUBLIC{} and to secure to all its citizens\".format('\\n\\t','!\\n\\t\\t','\\t\\n\\t\\t')\n",
    "print(string)"
   ]
  }
 ],
 "metadata": {
  "kernelspec": {
   "display_name": "Python 3",
   "language": "python",
   "name": "python3"
  },
  "language_info": {
   "codemirror_mode": {
    "name": "ipython",
    "version": 3
   },
   "file_extension": ".py",
   "mimetype": "text/x-python",
   "name": "python",
   "nbconvert_exporter": "python",
   "pygments_lexer": "ipython3",
   "version": "3.6.5"
  }
 },
 "nbformat": 4,
 "nbformat_minor": 2
}
