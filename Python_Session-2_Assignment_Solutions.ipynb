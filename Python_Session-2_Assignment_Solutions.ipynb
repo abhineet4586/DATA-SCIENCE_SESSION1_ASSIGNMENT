{
 "cells": [
  {
   "cell_type": "markdown",
   "metadata": {},
   "source": [
    "# TASK-1"
   ]
  },
  {
   "cell_type": "markdown",
   "metadata": {},
   "source": [
    "1. Write a python program to implementyour own myreduce()function which works exactly like python's built-in function reduce()."
   ]
  },
  {
   "cell_type": "code",
   "execution_count": 1,
   "metadata": {},
   "outputs": [
    {
     "name": "stdout",
     "output_type": "stream",
     "text": [
      "SUM of number in list: 60\n",
      "Highest Number in list 21\n",
      "Longest name in list: ranjan Banerjee\n"
     ]
    }
   ],
   "source": [
    "#Definition of 'myreduce' function which works as python's built-in 'reduce' fuction\n",
    "def myreduce(func_name,args):\n",
    "    arg1 = args[0]\n",
    "    for arg in range(1,len(args)):\n",
    "        arg2 = args[arg]\n",
    "        arg1 = func_name(arg1,arg2)\n",
    "    return arg1\n",
    "# 'add' fuction definition which adds two number\n",
    "def add(x1,x2):\n",
    "    return x1+x2\n",
    "# 'longest_string' function definition to find longest word in list\n",
    "def longest_string(x1,x2):\n",
    "    if(len(x1) < len(x2)):\n",
    "        return x2\n",
    "    else:\n",
    "        return x1\n",
    "list = [3,4,9,21,11,12]\n",
    "name = [\"Abhineet\",\"ranjan Banerjee\",\"Nihir\",\"Rana\"]\n",
    "sum = myreduce(add,list)\n",
    "highest = myreduce(lambda x,y:x if(x>y) else y,list)\n",
    "longest_name = myreduce(longest_string,name)\n",
    "print(\"SUM of number in list:\",sum)\n",
    "print(\"Highest Number in list\",highest)\n",
    "print(\"Longest name in list:\",longest_name)"
   ]
  },
  {
   "cell_type": "markdown",
   "metadata": {},
   "source": [
    "2. Write a python program to implement your own myfilter() function which works exactly like python built in function filter()."
   ]
  },
  {
   "cell_type": "code",
   "execution_count": 2,
   "metadata": {},
   "outputs": [
    {
     "name": "stdout",
     "output_type": "stream",
     "text": [
      "Even number in list: [2, 4, 6, 24]\n"
     ]
    }
   ],
   "source": [
    "#Definition of myfilter function which works as python's built-in fuction filter\n",
    "def myfilter(func_name,args):\n",
    "    myfilter_list = []\n",
    "    for arg in args:\n",
    "        value = func_name(arg)\n",
    "        if(value == True):\n",
    "            myfilter_list.append(arg)\n",
    "    return myfilter_list\n",
    "# 'even_check' function definition which checks whether number is even or not.\n",
    "def even_check(n1):\n",
    "    if(n1%2 == 0):\n",
    "        return True\n",
    "list1 = [1,2,3,4,5,6,7,11,13,24,19]\n",
    "even_numbers = myfilter(even_check,list1)\n",
    "print(\"Even number in list:\",even_numbers)"
   ]
  },
  {
   "cell_type": "markdown",
   "metadata": {},
   "source": [
    "3. Write a list comprehension to produce following list."
   ]
  },
  {
   "cell_type": "code",
   "execution_count": 3,
   "metadata": {},
   "outputs": [
    {
     "name": "stdout",
     "output_type": "stream",
     "text": [
      "['A', 'C', 'A', 'D', 'G', 'I', 'L', 'D']\n",
      "['x', 'xx', 'xxx', 'xxxx', 'y', 'yy', 'yyy', 'yyyy', 'z', 'zz', 'zzz', 'zzzz']\n",
      "['x', 'y', 'z', 'xx', 'yy', 'zz', 'xxx', 'yyy', 'zzz', 'xxxx', 'yyyy', 'zzzz']\n",
      "[[2], [3], [4], [3], [4], [5], [4], [5], [6]]\n",
      "[[2, 3, 4, 5], [3, 4, 5, 6], [4, 5, 6, 7], [5, 6, 7, 8]]\n",
      "[(1, 1), (2, 1), (3, 1), (1, 2), (2, 2), (3, 2), (1, 3), (2, 3), (3, 3)]\n"
     ]
    }
   ],
   "source": [
    "x = [i for i in (\"ACADGILD\")]\n",
    "print(x)\n",
    "y = [i*(z+1) for i in ('x','y','z') for z in range(4)]\n",
    "print(y)\n",
    "z = [i*(z+1)for z in range(4) for i in ('x','y','z')]\n",
    "print(z)\n",
    "a = [[i+x] for x in range(1,4) for i in range(1,4)]\n",
    "print(a)\n",
    "l = [[i+j for j in range(1,5)] for i in range(1,5)]\n",
    "print (l)\n",
    "m = [(i,j) for j in range(1,4) for i in range(1,4)]\n",
    "print(m)"
   ]
  },
  {
   "cell_type": "markdown",
   "metadata": {},
   "source": [
    "4. Implement a function longestWord() that takes a list of words and return the longest one."
   ]
  },
  {
   "cell_type": "code",
   "execution_count": 6,
   "metadata": {},
   "outputs": [
    {
     "name": "stdout",
     "output_type": "stream",
     "text": [
      "Longest word in list: Nihir Das\n"
     ]
    }
   ],
   "source": [
    "#'longestWord' Function definition\n",
    "def longestWord(args):\n",
    "    arg1 = args[0]\n",
    "    for i in range(1,len(args)):\n",
    "        arg2 = args[i]\n",
    "        if (len(arg1) >= len(arg2)):\n",
    "            next\n",
    "        else:\n",
    "            arg1 = arg2\n",
    "    return arg1\n",
    "\n",
    "name = [\"Abhineet\",\"Ranjan\",\"Nihir Das\",\"Aina garg\"]\n",
    "#longestWord function call\n",
    "output = longestWord(name)\n",
    "print(\"Longest word in list:\",output)"
   ]
  },
  {
   "cell_type": "markdown",
   "metadata": {},
   "source": [
    "# TASK-2"
   ]
  },
  {
   "cell_type": "markdown",
   "metadata": {},
   "source": [
    "1. Write a python program(with class concepts) to find the area of triangle using the below formula.\n",
    "    area - (s*(s-a)*(s-b)*(s-c))**0.5\n",
    "   Function to take the length of the sides of triangle from user should be definedin the parent class and function to \n",
    "   calculatethe areashould be defined in sub class."
   ]
  },
  {
   "cell_type": "code",
   "execution_count": 1,
   "metadata": {},
   "outputs": [
    {
     "name": "stdout",
     "output_type": "stream",
     "text": [
      "Enter side1:5\n",
      "Enter side2:7\n",
      "Enter side3:9\n",
      "Area of Triangle:: 17.41228014936585\n"
     ]
    }
   ],
   "source": [
    "#Polygon class definition\n",
    "class Polygon:\n",
    "    # Initializing self object with number of sides\n",
    "    def __init__(self,num_of_sides):\n",
    "        self.n = num_of_sides\n",
    "    #Funtion for setting values of sides by user\n",
    "    def setValues(self):\n",
    "        self.sides = [float(input(\"Enter side\"+str(i+1)+\":\")) for i in range (self.n)]\n",
    "#Triangle class which inherits polygon class\n",
    "class Triangle(Polygon):\n",
    "    def __init__(self,*args,**kwargs):\n",
    "        super(Triangle,self).__init__(3,*args,**kwargs)\n",
    "    # Area function definition\n",
    "    def Area(self):\n",
    "        s1,s2,s3 = self.sides\n",
    "        s = float((s1+s2+s3)/2)\n",
    "        Area = (s*(s-s1)*(s-s2)*(s-s3))**0.5\n",
    "        return Area\n",
    "# Object creation for triangle class    \n",
    "T1 = Triangle()\n",
    "# Setting values for the sides of triangle \n",
    "T1.setValues()\n",
    "#calculating area for the triangle\n",
    "Triangle_Area = T1.Area()\n",
    "print(\"Area of Triangle::\",Triangle_Area)"
   ]
  },
  {
   "cell_type": "markdown",
   "metadata": {},
   "source": [
    "2. Write a function filter_long_words() that takes a list of wordsand an integer 'n' and returns the list of word longer than 'n'."
   ]
  },
  {
   "cell_type": "code",
   "execution_count": 6,
   "metadata": {},
   "outputs": [
    {
     "name": "stdout",
     "output_type": "stream",
     "text": [
      "List of words longer than 5: ['Abhineet', 'ranjan', 'Archana']\n"
     ]
    }
   ],
   "source": [
    "# 'filter_long_words' function definition which takes list and variable as argument\n",
    "def filter_long_words(words,num):\n",
    "    output_list = []\n",
    "    for word in words:\n",
    "        if (len(word) > num):\n",
    "            output_list.append(word)\n",
    "        else:\n",
    "            next\n",
    "    return output_list\n",
    "\n",
    "name = [\"Abhineet\", \"ranjan\",\"Nihir\",\"Archana\"]\n",
    "num = 5\n",
    "# 'filter_long_words' function call\n",
    "output = filter_long_words(name,num)\n",
    "print(\"List of words longer than\",str(num)+\":\",output)"
   ]
  },
  {
   "cell_type": "markdown",
   "metadata": {},
   "source": [
    "3. Write a python program using function conceptthat maps list of words into list of integers representing the length of corresponding words."
   ]
  },
  {
   "cell_type": "code",
   "execution_count": 7,
   "metadata": {},
   "outputs": [
    {
     "name": "stdout",
     "output_type": "stream",
     "text": [
      "list for number of character in name list: [8, 6, 5, 7]\n"
     ]
    }
   ],
   "source": [
    "# Function 'string_len' to calculate the length of string/words.\n",
    "def string_len(args):\n",
    "    num_list = []\n",
    "    for arg in args:\n",
    "        num_list.append(len(arg))\n",
    "    return num_list\n",
    "name = [\"Abhineet\",\"Ranjan\",\"Nihir\",\"Archana\"]\n",
    "# 'string_len' fuction call\n",
    "num = string_len(name)\n",
    "print(\"list for number of character in name list:\",num)"
   ]
  },
  {
   "cell_type": "markdown",
   "metadata": {},
   "source": [
    "4. Write a python function which takes a character (i.e string of length 1)and returns true if it is a vowel, false otherwise."
   ]
  },
  {
   "cell_type": "code",
   "execution_count": 8,
   "metadata": {},
   "outputs": [
    {
     "name": "stdout",
     "output_type": "stream",
     "text": [
      "Enter the character:B\n"
     ]
    },
    {
     "data": {
      "text/plain": [
       "False"
      ]
     },
     "execution_count": 8,
     "metadata": {},
     "output_type": "execute_result"
    }
   ],
   "source": [
    "#Function 'char_check_vowel' definition to check character is vowel or not \n",
    "def char_check_vowel(char):\n",
    "    char1 = char.lower()\n",
    "    if char1 in ['a','e','i','o','u']:\n",
    "        return True\n",
    "    else:\n",
    "        return False\n",
    "# Taking character from user\n",
    "ch = input(\"Enter the character:\")\n",
    "# calling 'char_check_vowel' fuction\n",
    "char_check_vowel(ch)"
   ]
  }
 ],
 "metadata": {
  "kernelspec": {
   "display_name": "Python 3",
   "language": "python",
   "name": "python3"
  },
  "language_info": {
   "codemirror_mode": {
    "name": "ipython",
    "version": 3
   },
   "file_extension": ".py",
   "mimetype": "text/x-python",
   "name": "python",
   "nbconvert_exporter": "python",
   "pygments_lexer": "ipython3",
   "version": "3.6.5"
  }
 },
 "nbformat": 4,
 "nbformat_minor": 2
}
