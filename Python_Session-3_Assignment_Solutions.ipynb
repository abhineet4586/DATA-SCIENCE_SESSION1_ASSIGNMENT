{
 "cells": [
  {
   "cell_type": "markdown",
   "metadata": {},
   "source": [
    "# TASK-1"
   ]
  },
  {
   "cell_type": "markdown",
   "metadata": {},
   "source": [
    "1. Write a function to compute 5/0 and use try/except to catch the exception."
   ]
  },
  {
   "cell_type": "code",
   "execution_count": 1,
   "metadata": {},
   "outputs": [
    {
     "name": "stdout",
     "output_type": "stream",
     "text": [
      "Enter the num1:5\n",
      "Enter the num2:0\n",
      "Error:division by zero!\n"
     ]
    }
   ],
   "source": [
    "# divide function definition using exception handling concept\n",
    "def divide(x, y):\n",
    "    try:\n",
    "        result = int(x)/int(y)\n",
    "    except ZeroDivisionError:\n",
    "        print(\"Error:division by zero!\")\n",
    "    else:\n",
    "        print(\"result is\", result)\n",
    "# Taking two input from user\n",
    "n1 = input(\"Enter the num1:\")\n",
    "n2 = input(\"Enter the num2:\")\n",
    "# Calling \"divide\"  function\n",
    "divide(n1,n2)"
   ]
  },
  {
   "cell_type": "markdown",
   "metadata": {},
   "source": [
    "2. Implement a python program to generate all sentence where subject is in [\"Americans\",Indians\"] and verb is in [\"play\",\"watch\"] and the object is in  [\"Baseball\", \"Cricket\"]. "
   ]
  },
  {
   "cell_type": "code",
   "execution_count": 3,
   "metadata": {},
   "outputs": [
    {
     "name": "stdout",
     "output_type": "stream",
     "text": [
      "Americans play Baseball.\n",
      "Americans play Cricket.\n",
      "Americans watch Baseball.\n",
      "Americans watch Cricket.\n",
      "Indians play Baseball.\n",
      "Indians play Cricket.\n",
      "Indians watch Baseball.\n",
      "Indians watch Cricket.\n"
     ]
    }
   ],
   "source": [
    "#List Definition\n",
    "subjects = [\"Americans\",\"Indians\"]\n",
    "verbs = [\"play\",\"watch\"]\n",
    "objects = [\"Baseball\",\"Cricket\"]\n",
    "#Iteration over each list\n",
    "for subject in subjects:\n",
    "    for verb in verbs:\n",
    "        for object in objects:\n",
    "            # printing each element of list in specified format\n",
    "            print(subject+\" \"+verb+\" \"+object+\".\")"
   ]
  },
  {
   "cell_type": "markdown",
   "metadata": {},
   "source": [
    "# TASK-2"
   ]
  },
  {
   "cell_type": "markdown",
   "metadata": {},
   "source": [
    "1. Write a function so that the columns of the output matrix are the power of the input vector.\n",
    "    The order of the power is determined by the increasing boolean argument. Specifically, when increasing is False, the i-th output column is the input vector raised element-wiseto the power of (N-i-1)."
   ]
  },
  {
   "cell_type": "code",
   "execution_count": 4,
   "metadata": {},
   "outputs": [
    {
     "name": "stdout",
     "output_type": "stream",
     "text": [
      "<class 'numpy.ndarray'>\n",
      "[[ 1  1  1]\n",
      " [ 4  2  1]\n",
      " [ 9  3  1]\n",
      " [16  4  1]\n",
      " [25  5  1]]\n"
     ]
    }
   ],
   "source": [
    "import numpy as np\n",
    "def ATVanderMonde(x,n=0):\n",
    "    if n is 0:\n",
    "        n = len(x)\n",
    "    List1 = []\n",
    "    for data in x:\n",
    "        for i in range(n):\n",
    "            List1.append(data**(n-1-i))\n",
    "    matrix = np.array(List1).reshape((len(x),n))\n",
    "    return matrix\n",
    "\n",
    "List = [1,2,3,4,5]\n",
    "mat = ATVanderMonde(List,3)\n",
    "#print(type(mat))\n",
    "print(mat)"
   ]
  }
 ],
 "metadata": {
  "kernelspec": {
   "display_name": "Python 3",
   "language": "python",
   "name": "python3"
  },
  "language_info": {
   "codemirror_mode": {
    "name": "ipython",
    "version": 3
   },
   "file_extension": ".py",
   "mimetype": "text/x-python",
   "name": "python",
   "nbconvert_exporter": "python",
   "pygments_lexer": "ipython3",
   "version": "3.6.5"
  }
 },
 "nbformat": 4,
 "nbformat_minor": 2
}
